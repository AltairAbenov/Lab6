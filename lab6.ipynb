{
 "cells": [
  {
   "cell_type": "markdown",
   "id": "baaceb3a-a84a-46e2-a586-1fd4f527b6d3",
   "metadata": {},
   "source": [
    "Built-in funcs"
   ]
  },
  {
   "cell_type": "code",
   "execution_count": 8,
   "id": "19da20c5-26e1-4a67-bd78-e7abfe884f4b",
   "metadata": {},
   "outputs": [
    {
     "name": "stdout",
     "output_type": "stream",
     "text": [
      "120\n"
     ]
    }
   ],
   "source": [
    "import math\n",
    "\n",
    "def func(numbers):\n",
    "    return math.prod(numbers)\n",
    "\n",
    "arr = [1, 2, 3, 4, 5]\n",
    "result = func(arr)\n",
    "print(result)"
   ]
  },
  {
   "cell_type": "code",
   "execution_count": 10,
   "id": "ec799a43-0a83-4efa-ad88-069bc9659190",
   "metadata": {},
   "outputs": [
    {
     "name": "stdout",
     "output_type": "stream",
     "text": [
      "13 6\n"
     ]
    }
   ],
   "source": [
    "def n_lower_chars(string):\n",
    "    return sum(map(str.islower, string))\n",
    "\n",
    "def n_upper_chars(string):\n",
    "    return sum(map(str.isupper, string))\n",
    "\n",
    "a = \"hjJJKKasALdlalsdlfa\"\n",
    "print(n_lower_chars(a), n_upper_chars(a))"
   ]
  },
  {
   "cell_type": "code",
   "execution_count": 18,
   "id": "6152e1c6-89bd-4b78-aeb5-8458e55b84c7",
   "metadata": {},
   "outputs": [
    {
     "name": "stdout",
     "output_type": "stream",
     "text": [
      "YES\n"
     ]
    }
   ],
   "source": [
    "def is_palindrome(string):\n",
    "    if string == string[::-1]:\n",
    "        return \"YES\"\n",
    "    else:\n",
    "        return \"NO\"\n",
    "\n",
    "word = \"thisispalindromemordnilapsisiht\"\n",
    "print(is_palindrome(word))"
   ]
  },
  {
   "cell_type": "code",
   "execution_count": 36,
   "id": "3280f75d-7f97-47b9-a585-05c98e59f00f",
   "metadata": {},
   "outputs": [
    {
     "name": "stdin",
     "output_type": "stream",
     "text": [
      " 36\n",
      " 100\n"
     ]
    },
    {
     "name": "stdout",
     "output_type": "stream",
     "text": [
      "Square root of 36 after 100 miliseconds is 6.0\n"
     ]
    }
   ],
   "source": [
    "import time, math\n",
    "\n",
    "num = int(input())\n",
    "delay = int(input())\n",
    "\n",
    "time.sleep(delay/1000)\n",
    "print(f\"Square root of {num} after {delay} miliseconds is {math.sqrt(num)}\")"
   ]
  },
  {
   "cell_type": "code",
   "execution_count": 40,
   "id": "775e2f11-9a36-4be3-84c9-e70177163d01",
   "metadata": {},
   "outputs": [
    {
     "name": "stdout",
     "output_type": "stream",
     "text": [
      "True\n"
     ]
    }
   ],
   "source": [
    "def func(tpl):\n",
    "    return all(tpl)\n",
    "a = (1, 2, 3, 4)\n",
    "print(func(a))"
   ]
  },
  {
   "cell_type": "code",
   "execution_count": null,
   "id": "aa8bd3e6-b354-40fe-8b9a-57a5d201881d",
   "metadata": {},
   "outputs": [],
   "source": []
  }
 ],
 "metadata": {
  "kernelspec": {
   "display_name": "Python [conda env:base] *",
   "language": "python",
   "name": "conda-base-py"
  },
  "language_info": {
   "codemirror_mode": {
    "name": "ipython",
    "version": 3
   },
   "file_extension": ".py",
   "mimetype": "text/x-python",
   "name": "python",
   "nbconvert_exporter": "python",
   "pygments_lexer": "ipython3",
   "version": "3.12.7"
  }
 },
 "nbformat": 4,
 "nbformat_minor": 5
}
